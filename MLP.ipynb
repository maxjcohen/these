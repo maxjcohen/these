{
 "cells": [
  {
   "cell_type": "code",
   "execution_count": 1,
   "metadata": {},
   "outputs": [
    {
     "name": "stderr",
     "output_type": "stream",
     "text": [
      "Using TensorFlow backend.\n"
     ]
    }
   ],
   "source": [
    "import gc\n",
    "import sys\n",
    "\n",
    "import numpy as np\n",
    "from matplotlib import pyplot as plt\n",
    "from tqdm import tqdm\n",
    "import keras\n",
    "from keras.datasets import mnist\n",
    "\n",
    "from src.activations import Activation\n",
    "from src.layers import Layer"
   ]
  },
  {
   "cell_type": "markdown",
   "metadata": {},
   "source": [
    "# Load & pre-process data"
   ]
  },
  {
   "cell_type": "code",
   "execution_count": 2,
   "metadata": {},
   "outputs": [],
   "source": [
    "num_class = 10\n",
    "input_shape = (28, 28, 1)\n",
    "\n",
    "(x_train, y_train), (x_test, y_test) = mnist.load_data()\n",
    "\n",
    "x_train = x_train.reshape(-1, np.prod(input_shape)).astype('float32') / 255\n",
    "x_test = x_test.reshape(-1, np.prod(input_shape)).astype('float32') / 255\n",
    "\n",
    "y_train = keras.utils.to_categorical(y_train)\n",
    "y_test = keras.utils.to_categorical(y_test)"
   ]
  },
  {
   "cell_type": "code",
   "execution_count": 3,
   "metadata": {},
   "outputs": [
    {
     "name": "stdout",
     "output_type": "stream",
     "text": [
      "X: (60000, 784)\n",
      "Y: (60000, 10)\n"
     ]
    }
   ],
   "source": [
    "X = x_train\n",
    "Y = y_train\n",
    "print(f\"X: {X.shape}\\nY: {Y.shape}\")"
   ]
  },
  {
   "cell_type": "markdown",
   "metadata": {},
   "source": [
    "# Create network"
   ]
  },
  {
   "cell_type": "code",
   "execution_count": 4,
   "metadata": {},
   "outputs": [],
   "source": [
    "def train(model, X, Y, epochs, batch_size=32, lr=1e-3, validation_data=None):\n",
    "    hist_values = [\"loss\", \"accuracy\"]\n",
    "    hist = {value: np.zeros(epochs) for value in hist_values}\n",
    "\n",
    "    size = X.shape[0]\n",
    "    num_batches = (size + batch_size - 1) // batch_size \n",
    "    idx_batches = [(i * batch_size, min(size-1, (i + 1) * batch_size)) for i in range(num_batches)]\n",
    "\n",
    "    for e in range(epochs):\n",
    "        for idx_b, idx_e in idx_batches:\n",
    "            x_batch = X[idx_b:idx_e, ...]\n",
    "            y_batch = Y[idx_b:idx_e, ...]\n",
    "            model.backpropagate(x_batch, y_batch, lr=lr)\n",
    "\n",
    "        y_pred = model.forward(X)\n",
    "        loss = model.compute_loss(Y, y_pred)\n",
    "        acc = model.compute_accuracy(Y, y_pred)\n",
    "        \n",
    "        hist[\"loss\"][e] = loss\n",
    "        hist[\"accuracy\"][e] = acc\n",
    "        \n",
    "        print(f\"[Epoch {e+1}]: loss: {np.round(loss, 3)}\\tacc: {np.round(acc, 3)}\")\n",
    "\n",
    "    plt.plot(hist[\"loss\"])\n",
    "#     plt.figure()\n",
    "#     plt.plot(hist[\"accuracy\"])"
   ]
  },
  {
   "cell_type": "code",
   "execution_count": 5,
   "metadata": {},
   "outputs": [],
   "source": [
    "class Sigmoid(Activation):\n",
    "    def d(self, A):\n",
    "        return A * (1 - A)\n",
    "    \n",
    "    def function(self, z):\n",
    "        return 1 / (1.0 + np.exp(-z))\n",
    "    \n",
    "class Softmax(Activation):\n",
    "    def d(self, A):\n",
    "        return A * (1 - A)\n",
    "    \n",
    "    def function(self, z):\n",
    "        s = np.exp(z)\n",
    "        return s / np.sum(s, axis=-1, keepdims=True)\n",
    "    "
   ]
  },
  {
   "cell_type": "code",
   "execution_count": 355,
   "metadata": {},
   "outputs": [],
   "source": [
    "class Dense(Layer):\n",
    "    def __init__(self, n_o, n_i, activation, sigma=4):\n",
    "        super().__init__()\n",
    "        \n",
    "        self.W = np.random.normal(size=(n_o, n_i)) * sigma / np.sqrt(n_i)\n",
    "        self.b = np.zeros(shape=(1, n_o))\n",
    "        \n",
    "        self.activation = activation\n",
    "        \n",
    "    def forward(self, X):\n",
    "        self.X = X\n",
    "        h = np.dot(self.X, self.W.T) + self.b\n",
    "        self.q = np.mean(np.sum(np.square(h), axis=-1)) / self.W.shape[1]\n",
    "        self.A = self.activation(np.dot(self.X, self.W.T) + self.b)\n",
    "        return self.A\n",
    "    \n",
    "    def d_layer(self):\n",
    "        if self.X is None:\n",
    "            raise RuntimeError(\"This layer needs a forward pass before computing a gradient\")\n",
    "        return self.X"
   ]
  },
  {
   "cell_type": "code",
   "execution_count": 356,
   "metadata": {},
   "outputs": [],
   "source": [
    "class NeuralNetwork:\n",
    "    def __init__(self, n_unit):\n",
    "        self.layers = [ Dense(n_unit[i+1], n_unit[i], activation=Sigmoid()) for i in range(len(n_unit)-1) ]\n",
    "#         self.layers[-1].activation = Softmax()\n",
    "        \n",
    "        self.L = len(self.layers)\n",
    "        self.A = None\n",
    "        \n",
    "    def d_loss(self, Y):\n",
    "        A = self.A[-1]\n",
    "        return - (Y / A - (1 - Y) / (1 - A))\n",
    "        \n",
    "    def forward(self, X):\n",
    "        A = [X]\n",
    "        for idx, layer in enumerate(self.layers):\n",
    "            A.append(layer(A[idx]))\n",
    "        self.A = A\n",
    "        \n",
    "        return A[-1]\n",
    "    \n",
    "    def backpropagate(self, X, Y, lr):\n",
    "        m = X.shape[-1]\n",
    "        \n",
    "        # Probagate\n",
    "        self.forward(X)\n",
    "        \n",
    "        # Compute dW and db\n",
    "        dWs = []\n",
    "        dbs = []\n",
    "        \n",
    "        for l in reversed(range(1, len(self.layers)+1)):\n",
    "            if l == self.L:\n",
    "                dZ = self.d_loss(Y) * self.layers[-1].d_activation()\n",
    "            else:\n",
    "                dZ = np.dot(dZ, self.layers[l].W) * self.layers[l-1].d_activation()\n",
    "\n",
    "            dWs.append( 1/m * np.dot(dZ.T, self.layers[l-1].d_layer()) )\n",
    "            dbs.append( 1/m * np.sum(dZ, axis=0, keepdims=True) )\n",
    "        \n",
    "        dWs = dWs[::-1]\n",
    "        dbs = dbs[::-1]\n",
    "        \n",
    "        # Update weights\n",
    "        for l, layer in enumerate(self.layers):\n",
    "            layer.W += - lr * dWs[l]\n",
    "            layer.b += - lr * dbs[l]\n",
    "        \n",
    "    def compute_loss(self, y_true, y_pred):\n",
    "        return - np.sum( y_true * np.log(y_pred) + (1 - y_true) * np.log(1 - y_pred) ) / y_true.shape[0]\n",
    "    \n",
    "    def compute_accuracy(self, y_true, y_pred):\n",
    "        return np.sum( np.argmax(y_true, axis=-1) == np.argmax(y_pred, axis=-1) ) * 100 / y_true.shape[0]\n",
    "    \n",
    "    def __iter__(self):\n",
    "        return iter(self.layers)\n",
    "    \n",
    "    def __sizeof__(self):\n",
    "        return sum([sys.getsizeof(layer) for layer in self])"
   ]
  },
  {
   "cell_type": "code",
   "execution_count": 357,
   "metadata": {},
   "outputs": [],
   "source": [
    "model = NeuralNetwork(n_unit = [784, 64, 32, 10])"
   ]
  },
  {
   "cell_type": "code",
   "execution_count": null,
   "metadata": {},
   "outputs": [],
   "source": []
  },
  {
   "cell_type": "code",
   "execution_count": null,
   "metadata": {},
   "outputs": [],
   "source": []
  },
  {
   "cell_type": "code",
   "execution_count": null,
   "metadata": {},
   "outputs": [],
   "source": []
  },
  {
   "cell_type": "code",
   "execution_count": null,
   "metadata": {},
   "outputs": [],
   "source": []
  },
  {
   "cell_type": "code",
   "execution_count": 358,
   "metadata": {},
   "outputs": [],
   "source": [
    "n_points = 100"
   ]
  },
  {
   "cell_type": "code",
   "execution_count": 359,
   "metadata": {},
   "outputs": [],
   "source": [
    "input_length_range = np.linspace(0, 6, n_points)"
   ]
  },
  {
   "cell_type": "code",
   "execution_count": 360,
   "metadata": {},
   "outputs": [
    {
     "name": "stderr",
     "output_type": "stream",
     "text": [
      "100%|██████████| 100/100 [00:00<00:00, 169.36it/s]\n"
     ]
    }
   ],
   "source": [
    "q0 = np.zeros((n_points))\n",
    "q1 = np.zeros((n_points))\n",
    "\n",
    "for idx, length in enumerate(tqdm(input_length_range)):\n",
    "    x = np.random.normal(loc=length, scale=1, size=(100, 784))\n",
    "    model.forward(x)\n",
    "    q0[idx] = model.layers[0].q\n",
    "    q1[idx] = model.layers[1].q"
   ]
  },
  {
   "cell_type": "code",
   "execution_count": 361,
   "metadata": {},
   "outputs": [
    {
     "data": {
      "text/plain": [
       "[<matplotlib.lines.Line2D at 0x7fa290f082e8>]"
      ]
     },
     "execution_count": 361,
     "metadata": {},
     "output_type": "execute_result"
    },
    {
     "data": {
      "image/png": "[encoded data removed]",
      "text/plain": [
       "<Figure size 432x288 with 1 Axes>"
      ]
     },
     "metadata": {
      "needs_background": "light"
     },
     "output_type": "display_data"
    }
   ],
   "source": [
    "fig, ax = plt.subplots()\n",
    "ax.plot(q0, q1)"
   ]
  },
  {
   "cell_type": "code",
   "execution_count": null,
   "metadata": {},
   "outputs": [],
   "source": []
  },
  {
   "cell_type": "code",
   "execution_count": null,
   "metadata": {},
   "outputs": [],
   "source": []
  },
  {
   "cell_type": "code",
   "execution_count": null,
   "metadata": {},
   "outputs": [],
   "source": []
  },
  {
   "cell_type": "code",
   "execution_count": null,
   "metadata": {},
   "outputs": [],
   "source": []
  },
  {
   "cell_type": "markdown",
   "metadata": {},
   "source": [
    "# Train"
   ]
  },
  {
   "cell_type": "code",
   "execution_count": 322,
   "metadata": {},
   "outputs": [
    {
     "name": "stdout",
     "output_type": "stream",
     "text": [
      "[Epoch 1]: loss: 0.655\tacc: 90.44\n"
     ]
    },
    {
     "ename": "KeyboardInterrupt",
     "evalue": "",
     "output_type": "error",
     "traceback": [
      "\u001b[0;31m---------------------------------------------------------------------------\u001b[0m",
      "\u001b[0;31mKeyboardInterrupt\u001b[0m                         Traceback (most recent call last)",
      "\u001b[0;32m<ipython-input-322-e47b3b4f122e>\u001b[0m in \u001b[0;36m<module>\u001b[0;34m\u001b[0m\n\u001b[0;32m----> 1\u001b[0;31m \u001b[0mtrain\u001b[0m\u001b[0;34m(\u001b[0m\u001b[0mmodel\u001b[0m\u001b[0;34m,\u001b[0m \u001b[0mX\u001b[0m\u001b[0;34m,\u001b[0m \u001b[0mY\u001b[0m\u001b[0;34m,\u001b[0m \u001b[0mepochs\u001b[0m\u001b[0;34m=\u001b[0m\u001b[0;36m3\u001b[0m\u001b[0;34m,\u001b[0m \u001b[0mbatch_size\u001b[0m\u001b[0;34m=\u001b[0m\u001b[0;36m32\u001b[0m\u001b[0;34m,\u001b[0m \u001b[0mlr\u001b[0m\u001b[0;34m=\u001b[0m\u001b[0;36m3\u001b[0m\u001b[0;34m)\u001b[0m\u001b[0;34m\u001b[0m\u001b[0;34m\u001b[0m\u001b[0m\n\u001b[0m",
      "\u001b[0;32m<ipython-input-4-63cc0ed93921>\u001b[0m in \u001b[0;36mtrain\u001b[0;34m(model, X, Y, epochs, batch_size, lr, validation_data)\u001b[0m\n\u001b[1;32m     11\u001b[0m             \u001b[0mx_batch\u001b[0m \u001b[0;34m=\u001b[0m \u001b[0mX\u001b[0m\u001b[0;34m[\u001b[0m\u001b[0midx_b\u001b[0m\u001b[0;34m:\u001b[0m\u001b[0midx_e\u001b[0m\u001b[0;34m,\u001b[0m \u001b[0;34m...\u001b[0m\u001b[0;34m]\u001b[0m\u001b[0;34m\u001b[0m\u001b[0;34m\u001b[0m\u001b[0m\n\u001b[1;32m     12\u001b[0m             \u001b[0my_batch\u001b[0m \u001b[0;34m=\u001b[0m \u001b[0mY\u001b[0m\u001b[0;34m[\u001b[0m\u001b[0midx_b\u001b[0m\u001b[0;34m:\u001b[0m\u001b[0midx_e\u001b[0m\u001b[0;34m,\u001b[0m \u001b[0;34m...\u001b[0m\u001b[0;34m]\u001b[0m\u001b[0;34m\u001b[0m\u001b[0;34m\u001b[0m\u001b[0m\n\u001b[0;32m---> 13\u001b[0;31m             \u001b[0mmodel\u001b[0m\u001b[0;34m.\u001b[0m\u001b[0mbackpropagate\u001b[0m\u001b[0;34m(\u001b[0m\u001b[0mx_batch\u001b[0m\u001b[0;34m,\u001b[0m \u001b[0my_batch\u001b[0m\u001b[0;34m,\u001b[0m \u001b[0mlr\u001b[0m\u001b[0;34m=\u001b[0m\u001b[0mlr\u001b[0m\u001b[0;34m)\u001b[0m\u001b[0;34m\u001b[0m\u001b[0;34m\u001b[0m\u001b[0m\n\u001b[0m\u001b[1;32m     14\u001b[0m \u001b[0;34m\u001b[0m\u001b[0m\n\u001b[1;32m     15\u001b[0m         \u001b[0my_pred\u001b[0m \u001b[0;34m=\u001b[0m \u001b[0mmodel\u001b[0m\u001b[0;34m.\u001b[0m\u001b[0mforward\u001b[0m\u001b[0;34m(\u001b[0m\u001b[0mX\u001b[0m\u001b[0;34m)\u001b[0m\u001b[0;34m\u001b[0m\u001b[0;34m\u001b[0m\u001b[0m\n",
      "\u001b[0;32m<ipython-input-320-3ade62fd7793>\u001b[0m in \u001b[0;36mbackpropagate\u001b[0;34m(self, X, Y, lr)\u001b[0m\n\u001b[1;32m     35\u001b[0m                 \u001b[0mdZ\u001b[0m \u001b[0;34m=\u001b[0m \u001b[0mnp\u001b[0m\u001b[0;34m.\u001b[0m\u001b[0mdot\u001b[0m\u001b[0;34m(\u001b[0m\u001b[0mdZ\u001b[0m\u001b[0;34m,\u001b[0m \u001b[0mself\u001b[0m\u001b[0;34m.\u001b[0m\u001b[0mlayers\u001b[0m\u001b[0;34m[\u001b[0m\u001b[0ml\u001b[0m\u001b[0;34m]\u001b[0m\u001b[0;34m.\u001b[0m\u001b[0mW\u001b[0m\u001b[0;34m)\u001b[0m \u001b[0;34m*\u001b[0m \u001b[0mself\u001b[0m\u001b[0;34m.\u001b[0m\u001b[0mlayers\u001b[0m\u001b[0;34m[\u001b[0m\u001b[0ml\u001b[0m\u001b[0;34m-\u001b[0m\u001b[0;36m1\u001b[0m\u001b[0;34m]\u001b[0m\u001b[0;34m.\u001b[0m\u001b[0md_activation\u001b[0m\u001b[0;34m(\u001b[0m\u001b[0;34m)\u001b[0m\u001b[0;34m\u001b[0m\u001b[0;34m\u001b[0m\u001b[0m\n\u001b[1;32m     36\u001b[0m \u001b[0;34m\u001b[0m\u001b[0m\n\u001b[0;32m---> 37\u001b[0;31m             \u001b[0mdWs\u001b[0m\u001b[0;34m.\u001b[0m\u001b[0mappend\u001b[0m\u001b[0;34m(\u001b[0m \u001b[0;36m1\u001b[0m\u001b[0;34m/\u001b[0m\u001b[0mm\u001b[0m \u001b[0;34m*\u001b[0m \u001b[0mnp\u001b[0m\u001b[0;34m.\u001b[0m\u001b[0mdot\u001b[0m\u001b[0;34m(\u001b[0m\u001b[0mdZ\u001b[0m\u001b[0;34m.\u001b[0m\u001b[0mT\u001b[0m\u001b[0;34m,\u001b[0m \u001b[0mself\u001b[0m\u001b[0;34m.\u001b[0m\u001b[0mlayers\u001b[0m\u001b[0;34m[\u001b[0m\u001b[0ml\u001b[0m\u001b[0;34m-\u001b[0m\u001b[0;36m1\u001b[0m\u001b[0;34m]\u001b[0m\u001b[0;34m.\u001b[0m\u001b[0md_layer\u001b[0m\u001b[0;34m(\u001b[0m\u001b[0;34m)\u001b[0m\u001b[0;34m)\u001b[0m \u001b[0;34m)\u001b[0m\u001b[0;34m\u001b[0m\u001b[0;34m\u001b[0m\u001b[0m\n\u001b[0m\u001b[1;32m     38\u001b[0m             \u001b[0mdbs\u001b[0m\u001b[0;34m.\u001b[0m\u001b[0mappend\u001b[0m\u001b[0;34m(\u001b[0m \u001b[0;36m1\u001b[0m\u001b[0;34m/\u001b[0m\u001b[0mm\u001b[0m \u001b[0;34m*\u001b[0m \u001b[0mnp\u001b[0m\u001b[0;34m.\u001b[0m\u001b[0msum\u001b[0m\u001b[0;34m(\u001b[0m\u001b[0mdZ\u001b[0m\u001b[0;34m,\u001b[0m \u001b[0maxis\u001b[0m\u001b[0;34m=\u001b[0m\u001b[0;36m0\u001b[0m\u001b[0;34m,\u001b[0m \u001b[0mkeepdims\u001b[0m\u001b[0;34m=\u001b[0m\u001b[0;32mTrue\u001b[0m\u001b[0;34m)\u001b[0m \u001b[0;34m)\u001b[0m\u001b[0;34m\u001b[0m\u001b[0;34m\u001b[0m\u001b[0m\n\u001b[1;32m     39\u001b[0m \u001b[0;34m\u001b[0m\u001b[0m\n",
      "\u001b[0;31mKeyboardInterrupt\u001b[0m: "
     ]
    }
   ],
   "source": [
    "train(model, X, Y, epochs=3, batch_size=32, lr=3)"
   ]
  },
  {
   "cell_type": "markdown",
   "metadata": {},
   "source": [
    "# Visualization"
   ]
  },
  {
   "cell_type": "code",
   "execution_count": 10,
   "metadata": {},
   "outputs": [
    {
     "data": {
      "image/png": "[encoded data removed]",
      "text/plain": [
       "<Figure size 1440x720 with 10 Axes>"
      ]
     },
     "metadata": {
      "needs_background": "light"
     },
     "output_type": "display_data"
    }
   ],
   "source": [
    "n_images = 10\n",
    "x_viz = x_test[np.random.randint(0, x_test.shape[0], n_images)]\n",
    "y_hat = model.forward(x_viz)\n",
    "\n",
    "plt.figure(figsize=(20, 10))\n",
    "for i in range(n_images):\n",
    "    ax = plt.subplot(1, n_images, i + 1)\n",
    "    plt.imshow(x_viz[i, ...].reshape(28, 28), cmap=\"gray\")\n",
    "    ax.get_xaxis().set_visible(False)\n",
    "    ax.get_yaxis().set_visible(False)\n",
    "    ax.set_title(f'{np.argmax(y_hat[i, ...])}')"
   ]
  }
 ],
 "metadata": {
  "kernelspec": {
   "display_name": "Python 3",
   "language": "python",
   "name": "python3"
  },
  "language_info": {
   "codemirror_mode": {
    "name": "ipython",
    "version": 3
   },
   "file_extension": ".py",
   "mimetype": "text/x-python",
   "name": "python",
   "nbconvert_exporter": "python",
   "pygments_lexer": "ipython3",
   "version": "3.6.7"
  }
 },
 "nbformat": 4,
 "nbformat_minor": 2
}
